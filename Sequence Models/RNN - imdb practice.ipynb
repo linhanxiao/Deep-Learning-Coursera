{
 "cells": [
  {
   "cell_type": "markdown",
   "metadata": {},
   "source": [
    "## Practice on Applying RNN/LSTM model on imdb sentiment analysis"
   ]
  },
  {
   "cell_type": "code",
   "execution_count": 22,
   "metadata": {},
   "outputs": [],
   "source": [
    "import warnings\n",
    "warnings.simplefilter('ignore')\n",
    "\n",
    "#import necessary modules\n",
    "import numpy as np\n",
    "from keras.datasets import imdb\n",
    "from keras.preprocessing import sequence\n",
    "from keras import models\n",
    "from keras import layers\n",
    "from keras.utils.np_utils import to_categorical\n",
    "\n",
    "# Set random seed\n",
    "np.random.seed(0)"
   ]
  },
  {
   "cell_type": "markdown",
   "metadata": {},
   "source": [
    "### Overvies of the dataset"
   ]
  },
  {
   "cell_type": "code",
   "execution_count": 3,
   "metadata": {},
   "outputs": [],
   "source": [
    "# Set the number of features we want\n",
    "#num_words: integer or None. Top most frequent words to consider. \n",
    "#Any less frequent word will appear as oov_char value in the sequence data.\n",
    "number_of_features = None\n",
    "\n",
    "# Load data and target vector from movie review data\n",
    "(train_data, train_target), (test_data, test_target) = imdb.load_data(num_words=number_of_features)"
   ]
  },
  {
   "cell_type": "code",
   "execution_count": 4,
   "metadata": {},
   "outputs": [
    {
     "data": {
      "text/plain": [
       "((25000,), (25000,), (25000,), (25000,))"
      ]
     },
     "execution_count": 4,
     "metadata": {},
     "output_type": "execute_result"
    }
   ],
   "source": [
    "train_data.shape, test_data.shape, train_target.shape, test_target.shape"
   ]
  },
  {
   "cell_type": "code",
   "execution_count": 5,
   "metadata": {},
   "outputs": [
    {
     "data": {
      "text/plain": [
       "2494"
      ]
     },
     "execution_count": 5,
     "metadata": {},
     "output_type": "execute_result"
    }
   ],
   "source": [
    "#The longest comment in training set\n",
    "max([len(train_data[i]) for i in range(len(train_data))])"
   ]
  },
  {
   "cell_type": "code",
   "execution_count": 6,
   "metadata": {},
   "outputs": [
    {
     "name": "stdout",
     "output_type": "stream",
     "text": [
      "Downloading data from https://s3.amazonaws.com/text-datasets/imdb_word_index.json\n",
      "1646592/1641221 [==============================] - 3s 2us/step\n"
     ]
    }
   ],
   "source": [
    "#get the word_index_dict\n",
    "word_index_dict = imdb.get_word_index()"
   ]
  },
  {
   "cell_type": "code",
   "execution_count": 7,
   "metadata": {},
   "outputs": [
    {
     "data": {
      "text/plain": [
       "88584"
      ]
     },
     "execution_count": 7,
     "metadata": {},
     "output_type": "execute_result"
    }
   ],
   "source": [
    "len(word_index_dict)"
   ]
  },
  {
   "cell_type": "code",
   "execution_count": 13,
   "metadata": {},
   "outputs": [
    {
     "data": {
      "text/plain": [
       "88584"
      ]
     },
     "execution_count": 13,
     "metadata": {},
     "output_type": "execute_result"
    }
   ],
   "source": [
    "#create index_word_dict\n",
    "index_word_dict = dict()\n",
    "for k,v in word_index_dict.items():\n",
    "    index_word_dict[v] = k\n",
    "len(index_word_dict)"
   ]
  },
  {
   "cell_type": "code",
   "execution_count": 14,
   "metadata": {
    "collapsed": true
   },
   "outputs": [],
   "source": [
    "#let's see what the comment is\n",
    "def get_comment(dataset, index):\n",
    "    comment = []\n",
    "    for w in dataset[index]:\n",
    "        comment.append(index_word_dict[w])\n",
    "    return ' '.join(comment)"
   ]
  },
  {
   "cell_type": "code",
   "execution_count": 15,
   "metadata": {},
   "outputs": [
    {
     "data": {
      "text/plain": [
       "\"the thought solid thought senator do making to is spot nomination assumed while he of jack in where picked as getting on was did hands fact characters to always life thrillers not as me can't in at are br of sure your way of little it strongly random to view of love it so principles of guy it used producer of where it of here icon film of outside to don't all unique some like of direction it if out her imagination below keep of queen he diverse to makes this stretch stefan of solid it thought begins br senator machinations budget worthwhile though ok brokedown awaiting for ever better were lugia diverse for budget look kicked any to of making it out bosworth's follows for effects show to show cast this family us scenes more it severe making senator to levant's finds tv tend to of emerged these thing wants but fuher an beckinsale cult as it is video do you david see scenery it in few those are of ship for with of wild to one is very work dark they don't do dvd with those them\""
      ]
     },
     "execution_count": 15,
     "metadata": {},
     "output_type": "execute_result"
    }
   ],
   "source": [
    "get_comment(train_data, 1)"
   ]
  },
  {
   "cell_type": "code",
   "execution_count": 19,
   "metadata": {},
   "outputs": [
    {
     "data": {
      "text/plain": [
       "0"
      ]
     },
     "execution_count": 19,
     "metadata": {},
     "output_type": "execute_result"
    }
   ],
   "source": [
    "#categorical_labels = to_categorical(train_target, num_classes=None)\n",
    "#categorical_labels.shape # only 2 categories(0/1)\n",
    "#del(categorical_labels)\n",
    "train_target[1]"
   ]
  },
  {
   "cell_type": "markdown",
   "metadata": {},
   "source": [
    "The dataset is very small if we want to apply deep learning RNN model on it. And the size of the training set is the same as the test set, both are 25,000. Although it is a small dataset, the longest comment has more than 2 thousand words, and the comments includes 88,584 unique words, which might make the RNN model hard to converge. "
   ]
  },
  {
   "cell_type": "markdown",
   "metadata": {},
   "source": [
    "### EDA"
   ]
  },
  {
   "cell_type": "markdown",
   "metadata": {},
   "source": [
    "Since the length of each comment is different, I would like to limit the length and make every comment have the same length. To decide which maxlen I should pick, I would like to do some digging to see the features of the dataset."
   ]
  },
  {
   "cell_type": "code",
   "execution_count": 26,
   "metadata": {
    "collapsed": true
   },
   "outputs": [],
   "source": [
    "def get_comment_length(dataset):\n",
    "    length_list = np.array([len(i) for i in dataset])\n",
    "    return length_list"
   ]
  },
  {
   "cell_type": "code",
   "execution_count": 32,
   "metadata": {},
   "outputs": [
    {
     "name": "stdout",
     "output_type": "stream",
     "text": [
      "Std:  176.49367364852034\n",
      "Mean:  238.71364\n",
      "Median:  178.0\n"
     ]
    }
   ],
   "source": [
    "train_length_data = get_comment_length(train_data)\n",
    "print('Std: ', train_length_data.std())\n",
    "print('Mean: ', train_length_data.mean()) \n",
    "print('Median: ', np.percentile(train_length_data, 50))"
   ]
  },
  {
   "cell_type": "code",
   "execution_count": 35,
   "metadata": {},
   "outputs": [
    {
     "data": {
      "image/png": "[encoded data removed]",
      "text/plain": [
       "<matplotlib.figure.Figure at 0x11daa5438>"
      ]
     },
     "metadata": {},
     "output_type": "display_data"
    }
   ],
   "source": [
    "#import pyplot\n",
    "import matplotlib.pyplot as plt\n",
    "import seaborn as sns\n",
    "% matplotlib inline\n",
    "plt.boxplot(train_length_data)\n",
    "plt.show()"
   ]
  },
  {
   "cell_type": "code",
   "execution_count": 36,
   "metadata": {},
   "outputs": [
    {
     "data": {
      "text/plain": [
       "532.5"
      ]
     },
     "execution_count": 36,
     "metadata": {},
     "output_type": "execute_result"
    }
   ],
   "source": [
    "train_up_limit = np.percentile(train_length_data, 75) + 1.5*(np.percentile(train_length_data, 75) - \n",
    "                                                             np.percentile(train_length_data, 25))\n",
    "train_up_limit #about 93% \n",
    "#np.percentile(train_length_data, 93) #538.0\n",
    "#np.percentile(train_length_data, 99) #926.0"
   ]
  },
  {
   "cell_type": "code",
   "execution_count": 50,
   "metadata": {},
   "outputs": [
    {
     "data": {
      "text/plain": [
       "88585"
      ]
     },
     "execution_count": 50,
     "metadata": {},
     "output_type": "execute_result"
    }
   ],
   "source": [
    "#count word usage\n",
    "from collections import defaultdict\n",
    "def word_counter(dataset):\n",
    "    wc = defaultdict(int)\n",
    "    for i in range(len(dataset)):\n",
    "        for j in dataset[i]:\n",
    "            wc[j] += 1\n",
    "    return wc\n",
    "len(word_counter(train_data))"
   ]
  },
  {
   "cell_type": "code",
   "execution_count": 48,
   "metadata": {},
   "outputs": [
    {
     "name": "stdout",
     "output_type": "stream",
     "text": [
      "More than 1000 counts:  612\n",
      "More than 500 counts:  1157\n",
      "More than 100 counts:  4311\n"
     ]
    }
   ],
   "source": [
    "def usage_calculate(wc):\n",
    "    above_100 = []\n",
    "    above_500 = []\n",
    "    above_1000 = []\n",
    "    for k,v in wc.items():\n",
    "        if v >= 1000:\n",
    "            above_1000.append(k)\n",
    "        elif v >= 500:\n",
    "            above_500.append(k)\n",
    "        elif v >= 100:\n",
    "            above_100.append(k)\n",
    "    return above_1000, above_500, above_100\n",
    "        \n",
    "above_1000, above_500, above_100 = usage_calculate(word_counter(train_data))\n",
    "print('More than 1000 counts: ', len(above_1000))\n",
    "print('More than 500 counts: ', len(above_1000)+len(above_500))\n",
    "print('More than 100 counts: ', len(above_1000)+len(above_500)+len(above_100))"
   ]
  },
  {
   "cell_type": "markdown",
   "metadata": {},
   "source": [
    "After some digging, I find that the length of comments is diverse. Although the shortest comment has only 11 words, the median and standard deviation are 178 and 176.5 respectively. Also, only 4311 words are counted more than 100 times while there are total 88,585 words used in commenting."
   ]
  },
  {
   "cell_type": "markdown",
   "metadata": {},
   "source": [
    "### First and fast try"
   ]
  },
  {
   "cell_type": "code",
   "execution_count": 57,
   "metadata": {},
   "outputs": [],
   "source": [
    "# Use words which have more than 500 counts \n",
    "number_of_features = 1157\n",
    "\n",
    "# Load data and target vector from movie review data\n",
    "(train_data, train_target), (test_data, test_target) = imdb.load_data(num_words=number_of_features)"
   ]
  },
  {
   "cell_type": "code",
   "execution_count": 58,
   "metadata": {},
   "outputs": [
    {
     "data": {
      "text/plain": [
       "1155"
      ]
     },
     "execution_count": 58,
     "metadata": {},
     "output_type": "execute_result"
    }
   ],
   "source": [
    "#reduce the word using\n",
    "len(word_counter(train_data))"
   ]
  },
  {
   "cell_type": "code",
   "execution_count": 63,
   "metadata": {},
   "outputs": [
    {
     "data": {
      "text/plain": [
       "532"
      ]
     },
     "execution_count": 63,
     "metadata": {},
     "output_type": "execute_result"
    }
   ],
   "source": [
    "# Use padding or truncation to make each observation have 532 features (up outlier limit)\n",
    "train_features = sequence.pad_sequences(train_data, maxlen=532)\n",
    "test_features = sequence.pad_sequences(test_data, maxlen=532)\n",
    "len(test_features[0])"
   ]
  },
  {
   "cell_type": "code",
   "execution_count": 65,
   "metadata": {
    "collapsed": true
   },
   "outputs": [],
   "source": [
    "def lstm_model(number_of_features, output_dims = 128, units_num = 128):\n",
    "    # Start neural network\n",
    "    network = models.Sequential()\n",
    "\n",
    "    # Add an embedding layer\n",
    "    network.add(layers.Embedding(input_dim=number_of_features, output_dim=output_dims))\n",
    "\n",
    "    # Add a long short-term memory layer with 128 units\n",
    "    network.add(layers.LSTM(units=units_num))\n",
    "\n",
    "    # Add fully connected layer with a sigmoid activation function\n",
    "    network.add(layers.Dense(units=1, activation='sigmoid'))\n",
    "    \n",
    "    # Compile neural network\n",
    "    network.compile(loss='binary_crossentropy', # Cross-entropy\n",
    "                    optimizer='Adam',     # Adam optimization\n",
    "                    metrics=['accuracy']) # Accuracy performance metric\n",
    "    return network"
   ]
  },
  {
   "cell_type": "code",
   "execution_count": 66,
   "metadata": {
    "collapsed": true
   },
   "outputs": [],
   "source": [
    "network = lstm_model(number_of_features, output_dims = 128, units_num = 128)"
   ]
  },
  {
   "cell_type": "code",
   "execution_count": 67,
   "metadata": {},
   "outputs": [
    {
     "name": "stdout",
     "output_type": "stream",
     "text": [
      "Train on 25000 samples, validate on 25000 samples\n",
      "Epoch 1/5\n",
      "25000/25000 [==============================] - 784s 31ms/step - loss: 0.6068 - acc: 0.6617 - val_loss: 0.4618 - val_acc: 0.7843\n",
      "Epoch 2/5\n",
      "25000/25000 [==============================] - 800s 32ms/step - loss: 0.4429 - acc: 0.8194 - val_loss: 0.4045 - val_acc: 0.8255\n",
      "Epoch 3/5\n",
      "25000/25000 [==============================] - 3941s 158ms/step - loss: 0.3568 - acc: 0.8526 - val_loss: 0.3391 - val_acc: 0.8588\n",
      "Epoch 4/5\n",
      "25000/25000 [==============================] - 733s 29ms/step - loss: 0.3382 - acc: 0.8589 - val_loss: 0.3415 - val_acc: 0.8554\n",
      "Epoch 5/5\n",
      "25000/25000 [==============================] - 945s 38ms/step - loss: 0.3056 - acc: 0.8744 - val_loss: 0.3141 - val_acc: 0.8676\n"
     ]
    },
    {
     "data": {
      "text/plain": [
       "<keras.callbacks.History at 0x1289a5668>"
      ]
     },
     "execution_count": 67,
     "metadata": {},
     "output_type": "execute_result"
    }
   ],
   "source": [
    "network.fit(train_features, train_target,\n",
    "           epochs = 5,\n",
    "           verbose=1,               # Get the progressing bar in each epoch\n",
    "           batch_size=256,          # Number of observations per batch\n",
    "           validation_data=(test_features, test_target)) # Data for evaluation"
   ]
  },
  {
   "cell_type": "markdown",
   "metadata": {},
   "source": [
    "Reference:\n",
    "\n",
    "https://chrisalbon.com/deep_learning/keras/lstm_recurrent_neural_network/\n",
    "\n",
    "https://github.com/keras-team/keras/blob/master/examples/imdb_lstm.py\n",
    "\n",
    "https://machinelearningmastery.com/use-word-embedding-layers-deep-learning-keras/\n",
    "\n",
    "https://medium.com/@thoszymkowiak/how-to-implement-sentiment-analysis-using-word-embedding-and-convolutional-neural-networks-on-keras-163197aef623"
   ]
  },
  {
   "cell_type": "code",
   "execution_count": null,
   "metadata": {
    "collapsed": true
   },
   "outputs": [],
   "source": []
  }
 ],
 "metadata": {
  "kernelspec": {
   "display_name": "Python [default]",
   "language": "python",
   "name": "python3"
  },
  "language_info": {
   "codemirror_mode": {
    "name": "ipython",
    "version": 3
   },
   "file_extension": ".py",
   "mimetype": "text/x-python",
   "name": "python",
   "nbconvert_exporter": "python",
   "pygments_lexer": "ipython3",
   "version": "3.5.4"
  }
 },
 "nbformat": 4,
 "nbformat_minor": 2
}
